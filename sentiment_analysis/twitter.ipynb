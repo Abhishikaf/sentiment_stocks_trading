{
 "cells": [
  {
   "cell_type": "code",
   "execution_count": 80,
   "id": "86604745-0606-4984-87a3-0645acef273f",
   "metadata": {},
   "outputs": [
    {
     "name": "stdout",
     "output_type": "stream",
     "text": [
      "2022-01-11 23:04:04,884 loading file C:\\Users\\sjufa\\.flair\\models\\sentiment-en-mix-distillbert_4.pt\n"
     ]
    }
   ],
   "source": [
    "# Initial Imports\n",
    "\n",
    "import pandas as pd\n",
    "import numpy as np\n",
    "import requests\n",
    "import json\n",
    "import datetime as dt\n",
    "from textblob import TextBlob\n",
    "from vaderSentiment.vaderSentiment import SentimentIntensityAnalyzer\n",
    "# Import flair pre-trained sentiment model\n",
    "from flair.models import TextClassifier\n",
    "classifier = TextClassifier.load('en-sentiment')\n",
    "# Import flair Sentence to process input text\n",
    "from flair.data import Sentence\n",
    "import regex as re\n",
    "\n",
    "\n",
    "pd.set_option('display.max_colwidth', 1000)"
   ]
  },
  {
   "cell_type": "code",
   "execution_count": 74,
   "id": "4b78249e-3704-4752-885e-f49c9f59d7ca",
   "metadata": {},
   "outputs": [],
   "source": [
    "\n",
    "\n",
    "# Making the API call to retrieve tweets \n",
    "\n",
    "url = \"https://twitter32.p.rapidapi.com/getSearch\"\n",
    "\n",
    "# These parameters need to be set before running API call... could in the future receive inputs from user\n",
    "## TODO -- if input is received, datetime will need to be formatted correctly for API call\n",
    "\n",
    "hashtag = '$TSLA'\n",
    "start_date = '2022-01-01'\n",
    "end_date = '2022-01-09'\n",
    "\n",
    "querystring = {\"hashtag\": hashtag, \"start_date\": start_date,\"end_date\": end_date,\"lang\":\"en\"}\n",
    "\n",
    "headers = {\n",
    "    'x-rapidapi-host': \"twitter32.p.rapidapi.com\",\n",
    "    'x-rapidapi-key': \"49e5cedc9fmsh6a2df83dacfc4c1p1c3469jsn3edb2e8cb9df\"\n",
    "    }\n",
    "\n",
    "response = requests.get(url, headers=headers, params=querystring).json()\n",
    "df = pd.DataFrame(response['data']['tweets']).T"
   ]
  },
  {
   "cell_type": "code",
   "execution_count": 75,
   "id": "5d23baae-4280-4d37-a268-10593a77daf8",
   "metadata": {},
   "outputs": [],
   "source": [
    "# Parsing and formatting the dataframe to index by date created and isolating the 'full_text' and 'retweet_count' columns for sentiment analysis\n",
    "df_filtered = df.loc[:,[\"created_at\",\"full_text\"]]\n",
    "df_filtered.index = pd.to_datetime(df_filtered['created_at'])\n",
    "df_filtered.index.name = 'Date'\n",
    "df_filtered.drop(columns='created_at', inplace=True)"
   ]
  },
  {
   "cell_type": "code",
   "execution_count": 76,
   "id": "cec0834d-6731-4f74-ac08-6b3c2ad1e26a",
   "metadata": {},
   "outputs": [],
   "source": [
    "# We need to clean up our tweets so they can be analyzed in string format\n",
    "\n",
    "# Create a function to clean the tweets\n",
    "def clean_tweet(tweet_text): \n",
    "    return ' '.join(re.sub(\"(@[A-Za-z0-9]+)|([^0-9A-Za-z \\t])|(\\w+:\\/\\/\\S+)\", \" \", tweet_text).split()) \n",
    "\n",
    "\n",
    "#applying this function to Text column of our dataframe\n",
    "df_filtered[\"full_text\"] = df_filtered[\"full_text\"].apply(clean_tweet)"
   ]
  },
  {
   "cell_type": "code",
   "execution_count": 77,
   "id": "582163af-e88a-4475-986f-1c220d1c8b6e",
   "metadata": {},
   "outputs": [],
   "source": [
    "# Define a function to get Flair sentiment prediction score\n",
    "def score_flair(text):\n",
    "  sentence = Sentence(text)\n",
    "  classifier.predict(sentence)\n",
    "  score = sentence.labels[0].score\n",
    "  value = sentence.labels[0].value\n",
    "  return score, value\n",
    "\n",
    "# Get sentiment score for each review\n",
    "df_filtered['scores_flair'] = df_filtered['full_text'].apply(lambda s: score_flair(s)[0])\n",
    "# Predict sentiment label for each review\n",
    "df_filtered['pred_flair'] = df_filtered['full_text'].apply(lambda s: score_flair(s)[1])\n",
    "# Check the distribution of the score\n",
    "df_filtered['scores_flair'].describe()\n",
    "# Change the label of flair prediction to 0 if negative and 1 if positive\n",
    "mapping = {'NEGATIVE': 0, 'POSITIVE': 1}\n",
    "df_filtered['pred_flair_numerical'] = df_filtered['pred_flair'].map(mapping)"
   ]
  },
  {
   "cell_type": "code",
   "execution_count": 78,
   "id": "5ef997c8-e7eb-4a27-839d-bc3d0d921d4b",
   "metadata": {},
   "outputs": [
    {
     "data": {
      "text/html": [
       "<div>\n",
       "<style scoped>\n",
       "    .dataframe tbody tr th:only-of-type {\n",
       "        vertical-align: middle;\n",
       "    }\n",
       "\n",
       "    .dataframe tbody tr th {\n",
       "        vertical-align: top;\n",
       "    }\n",
       "\n",
       "    .dataframe thead th {\n",
       "        text-align: right;\n",
       "    }\n",
       "</style>\n",
       "<table border=\"1\" class=\"dataframe\">\n",
       "  <thead>\n",
       "    <tr style=\"text-align: right;\">\n",
       "      <th></th>\n",
       "      <th>flair_negative</th>\n",
       "      <th>flair_positive</th>\n",
       "    </tr>\n",
       "    <tr>\n",
       "      <th>Date</th>\n",
       "      <th></th>\n",
       "      <th></th>\n",
       "    </tr>\n",
       "  </thead>\n",
       "  <tbody>\n",
       "    <tr>\n",
       "      <th>2022-01-03 00:00:00+00:00</th>\n",
       "      <td>2</td>\n",
       "      <td>1</td>\n",
       "    </tr>\n",
       "    <tr>\n",
       "      <th>2022-01-04 00:00:00+00:00</th>\n",
       "      <td>2</td>\n",
       "      <td>1</td>\n",
       "    </tr>\n",
       "    <tr>\n",
       "      <th>2022-01-05 00:00:00+00:00</th>\n",
       "      <td>1</td>\n",
       "      <td>0</td>\n",
       "    </tr>\n",
       "    <tr>\n",
       "      <th>2022-01-06 00:00:00+00:00</th>\n",
       "      <td>0</td>\n",
       "      <td>2</td>\n",
       "    </tr>\n",
       "    <tr>\n",
       "      <th>2022-01-07 00:00:00+00:00</th>\n",
       "      <td>3</td>\n",
       "      <td>1</td>\n",
       "    </tr>\n",
       "    <tr>\n",
       "      <th>2022-01-08 00:00:00+00:00</th>\n",
       "      <td>3</td>\n",
       "      <td>4</td>\n",
       "    </tr>\n",
       "  </tbody>\n",
       "</table>\n",
       "</div>"
      ],
      "text/plain": [
       "                           flair_negative  flair_positive\n",
       "Date                                                     \n",
       "2022-01-03 00:00:00+00:00               2               1\n",
       "2022-01-04 00:00:00+00:00               2               1\n",
       "2022-01-05 00:00:00+00:00               1               0\n",
       "2022-01-06 00:00:00+00:00               0               2\n",
       "2022-01-07 00:00:00+00:00               3               1\n",
       "2022-01-08 00:00:00+00:00               3               4"
      ]
     },
     "execution_count": 78,
     "metadata": {},
     "output_type": "execute_result"
    }
   ],
   "source": [
    "#Converting the categorical variable columns into numerical with get_dummies\n",
    "df_filtered[['flair_negative','flair_positive']] = pd.get_dummies(df_filtered['pred_flair'])\n",
    "# Dropping the row if the scores_flair confidence level is below 0.75\n",
    "df_filtered.drop(df_filtered[df_filtered.scores_flair < 0.75].index, inplace=True)\n",
    "# Creating the 'df_signals' dataframe that we will use to append to our primary dataset, using only the columns with relevant numerical values, resampled by day\n",
    "df_signals = df_filtered.drop(columns=['scores_flair', 'pred_flair_numerical']).resample('1D').sum()"
   ]
  },
  {
   "cell_type": "markdown",
   "id": "c4b1b639-ed2a-45b2-abf2-375ac0170b4a",
   "metadata": {},
   "source": [
    "### After pulling tweet data, performing sentiment analysis using flair and then filtered and resampling the dataframe, we return a dataframe with datetime indices with two columns -- flair_negative, which is the sum of all negative tweets for the day, and flair_positive, which is the sum of all positive tweets for the day -- at some point we could think about factoring in number of retweets or something along those lines to weigh the tweets by their impact, but the results from the API call already filter by this metric, so could be superfluous."
   ]
  },
  {
   "cell_type": "code",
   "execution_count": 79,
   "id": "1d090eb5-2eb7-43b6-a4e4-31782fb1a0e6",
   "metadata": {},
   "outputs": [
    {
     "data": {
      "text/html": [
       "<div>\n",
       "<style scoped>\n",
       "    .dataframe tbody tr th:only-of-type {\n",
       "        vertical-align: middle;\n",
       "    }\n",
       "\n",
       "    .dataframe tbody tr th {\n",
       "        vertical-align: top;\n",
       "    }\n",
       "\n",
       "    .dataframe thead th {\n",
       "        text-align: right;\n",
       "    }\n",
       "</style>\n",
       "<table border=\"1\" class=\"dataframe\">\n",
       "  <thead>\n",
       "    <tr style=\"text-align: right;\">\n",
       "      <th></th>\n",
       "      <th>flair_negative</th>\n",
       "      <th>flair_positive</th>\n",
       "    </tr>\n",
       "    <tr>\n",
       "      <th>Date</th>\n",
       "      <th></th>\n",
       "      <th></th>\n",
       "    </tr>\n",
       "  </thead>\n",
       "  <tbody>\n",
       "    <tr>\n",
       "      <th>2022-01-03 00:00:00+00:00</th>\n",
       "      <td>2</td>\n",
       "      <td>1</td>\n",
       "    </tr>\n",
       "    <tr>\n",
       "      <th>2022-01-04 00:00:00+00:00</th>\n",
       "      <td>2</td>\n",
       "      <td>1</td>\n",
       "    </tr>\n",
       "    <tr>\n",
       "      <th>2022-01-05 00:00:00+00:00</th>\n",
       "      <td>1</td>\n",
       "      <td>0</td>\n",
       "    </tr>\n",
       "    <tr>\n",
       "      <th>2022-01-06 00:00:00+00:00</th>\n",
       "      <td>0</td>\n",
       "      <td>2</td>\n",
       "    </tr>\n",
       "    <tr>\n",
       "      <th>2022-01-07 00:00:00+00:00</th>\n",
       "      <td>3</td>\n",
       "      <td>1</td>\n",
       "    </tr>\n",
       "    <tr>\n",
       "      <th>2022-01-08 00:00:00+00:00</th>\n",
       "      <td>3</td>\n",
       "      <td>4</td>\n",
       "    </tr>\n",
       "  </tbody>\n",
       "</table>\n",
       "</div>"
      ],
      "text/plain": [
       "                           flair_negative  flair_positive\n",
       "Date                                                     \n",
       "2022-01-03 00:00:00+00:00               2               1\n",
       "2022-01-04 00:00:00+00:00               2               1\n",
       "2022-01-05 00:00:00+00:00               1               0\n",
       "2022-01-06 00:00:00+00:00               0               2\n",
       "2022-01-07 00:00:00+00:00               3               1\n",
       "2022-01-08 00:00:00+00:00               3               4"
      ]
     },
     "execution_count": 79,
     "metadata": {},
     "output_type": "execute_result"
    }
   ],
   "source": [
    "df_signals"
   ]
  },
  {
   "cell_type": "code",
   "execution_count": null,
   "id": "8fa275b6-b3ff-43e9-8879-8807e7ce7a79",
   "metadata": {},
   "outputs": [],
   "source": []
  }
 ],
 "metadata": {
  "kernelspec": {
   "display_name": "dev",
   "language": "python",
   "name": "dev"
  },
  "language_info": {
   "codemirror_mode": {
    "name": "ipython",
    "version": 3
   },
   "file_extension": ".py",
   "mimetype": "text/x-python",
   "name": "python",
   "nbconvert_exporter": "python",
   "pygments_lexer": "ipython3",
   "version": "3.7.11"
  }
 },
 "nbformat": 4,
 "nbformat_minor": 5
}
