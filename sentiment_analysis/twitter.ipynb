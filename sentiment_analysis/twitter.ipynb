{
 "cells": [
  {
   "cell_type": "code",
   "execution_count": 1,
   "id": "c21965bf-e07d-48af-b101-ebf01a2f1ea0",
   "metadata": {},
   "outputs": [
    {
     "ename": "ModuleNotFoundError",
     "evalue": "No module named 'AlpacaFunctions.get_historical_dataframe'; 'AlpacaFunctions' is not a package",
     "output_type": "error",
     "traceback": [
      "\u001b[1;31m---------------------------------------------------------------------------\u001b[0m",
      "\u001b[1;31mModuleNotFoundError\u001b[0m                       Traceback (most recent call last)",
      "\u001b[1;32m~\\AppData\\Local\\Temp/ipykernel_11644/433170711.py\u001b[0m in \u001b[0;36m<module>\u001b[1;34m\u001b[0m\n\u001b[0;32m     10\u001b[0m \u001b[1;32mimport\u001b[0m \u001b[0msnscrape\u001b[0m\u001b[1;33m.\u001b[0m\u001b[0mmodules\u001b[0m\u001b[1;33m.\u001b[0m\u001b[0mtwitter\u001b[0m \u001b[1;32mas\u001b[0m \u001b[0msntwitter\u001b[0m\u001b[1;33m\u001b[0m\u001b[1;33m\u001b[0m\u001b[0m\n\u001b[0;32m     11\u001b[0m \u001b[1;32mimport\u001b[0m \u001b[0mnltk\u001b[0m\u001b[1;33m\u001b[0m\u001b[1;33m\u001b[0m\u001b[0m\n\u001b[1;32m---> 12\u001b[1;33m \u001b[1;32mimport\u001b[0m \u001b[0mAlpacaFunctions\u001b[0m\u001b[1;33m.\u001b[0m\u001b[0mget_historical_dataframe\u001b[0m \u001b[1;32mas\u001b[0m \u001b[0mapf_get\u001b[0m\u001b[1;33m\u001b[0m\u001b[1;33m\u001b[0m\u001b[0m\n\u001b[0m\u001b[0;32m     13\u001b[0m \u001b[1;33m\u001b[0m\u001b[0m\n\u001b[0;32m     14\u001b[0m \u001b[0mnltk\u001b[0m\u001b[1;33m.\u001b[0m\u001b[0mdownload\u001b[0m\u001b[1;33m(\u001b[0m\u001b[1;34m'vader_lexicon'\u001b[0m\u001b[1;33m)\u001b[0m \u001b[1;31m#required for Sentiment Analysis\u001b[0m\u001b[1;33m\u001b[0m\u001b[1;33m\u001b[0m\u001b[0m\n",
      "\u001b[1;31mModuleNotFoundError\u001b[0m: No module named 'AlpacaFunctions.get_historical_dataframe'; 'AlpacaFunctions' is not a package"
     ]
    }
   ],
   "source": [
    "# Initial Imports\n",
    "\n",
    "import numpy as np\n",
    "import pandas as pd\n",
    "import matplotlib.pyplot as plt\n",
    "import datetime as dt\n",
    "import regex as re\n",
    "from wordcloud import WordCloud, STOPWORDS\n",
    "from nltk.sentiment.vader import SentimentIntensityAnalyzer\n",
    "import snscrape.modules.twitter as sntwitter\n",
    "import nltk\n",
    "from AlpacaFunctions import get_historical_dataframe \n",
    "\n",
    "nltk.download('vader_lexicon') #required for Sentiment Analysis"
   ]
  },
  {
   "cell_type": "code",
   "execution_count": 7,
   "id": "7e050f71-2e41-495e-bb4c-09bd7e7a8d7a",
   "metadata": {},
   "outputs": [
    {
     "data": {
      "text/html": [
       "<div>\n",
       "<style scoped>\n",
       "    .dataframe tbody tr th:only-of-type {\n",
       "        vertical-align: middle;\n",
       "    }\n",
       "\n",
       "    .dataframe tbody tr th {\n",
       "        vertical-align: top;\n",
       "    }\n",
       "\n",
       "    .dataframe thead tr th {\n",
       "        text-align: left;\n",
       "    }\n",
       "\n",
       "    .dataframe thead tr:last-of-type th {\n",
       "        text-align: right;\n",
       "    }\n",
       "</style>\n",
       "<table border=\"1\" class=\"dataframe\">\n",
       "  <thead>\n",
       "    <tr>\n",
       "      <th></th>\n",
       "      <th colspan=\"5\" halign=\"left\">TSLA</th>\n",
       "    </tr>\n",
       "    <tr>\n",
       "      <th></th>\n",
       "      <th>open</th>\n",
       "      <th>high</th>\n",
       "      <th>low</th>\n",
       "      <th>close</th>\n",
       "      <th>volume</th>\n",
       "    </tr>\n",
       "    <tr>\n",
       "      <th>time</th>\n",
       "      <th></th>\n",
       "      <th></th>\n",
       "      <th></th>\n",
       "      <th></th>\n",
       "      <th></th>\n",
       "    </tr>\n",
       "  </thead>\n",
       "  <tbody>\n",
       "    <tr>\n",
       "      <th>2021-09-30 00:00:00-04:00</th>\n",
       "      <td>780.50</td>\n",
       "      <td>789.1305</td>\n",
       "      <td>775.0000</td>\n",
       "      <td>775.1200</td>\n",
       "      <td>16607487</td>\n",
       "    </tr>\n",
       "    <tr>\n",
       "      <th>2021-10-01 00:00:00-04:00</th>\n",
       "      <td>778.23</td>\n",
       "      <td>780.7800</td>\n",
       "      <td>763.5900</td>\n",
       "      <td>775.2200</td>\n",
       "      <td>15534257</td>\n",
       "    </tr>\n",
       "    <tr>\n",
       "      <th>2021-10-04 00:00:00-04:00</th>\n",
       "      <td>796.52</td>\n",
       "      <td>806.9699</td>\n",
       "      <td>776.1200</td>\n",
       "      <td>781.5900</td>\n",
       "      <td>28234226</td>\n",
       "    </tr>\n",
       "    <tr>\n",
       "      <th>2021-10-05 00:00:00-04:00</th>\n",
       "      <td>784.30</td>\n",
       "      <td>797.3100</td>\n",
       "      <td>774.2000</td>\n",
       "      <td>780.6000</td>\n",
       "      <td>17494284</td>\n",
       "    </tr>\n",
       "    <tr>\n",
       "      <th>2021-10-06 00:00:00-04:00</th>\n",
       "      <td>776.20</td>\n",
       "      <td>786.6600</td>\n",
       "      <td>773.2200</td>\n",
       "      <td>782.5300</td>\n",
       "      <td>13556622</td>\n",
       "    </tr>\n",
       "    <tr>\n",
       "      <th>...</th>\n",
       "      <td>...</td>\n",
       "      <td>...</td>\n",
       "      <td>...</td>\n",
       "      <td>...</td>\n",
       "      <td>...</td>\n",
       "    </tr>\n",
       "    <tr>\n",
       "      <th>2022-01-03 00:00:00-05:00</th>\n",
       "      <td>1147.75</td>\n",
       "      <td>1201.0700</td>\n",
       "      <td>1136.0400</td>\n",
       "      <td>1199.6500</td>\n",
       "      <td>30720927</td>\n",
       "    </tr>\n",
       "    <tr>\n",
       "      <th>2022-01-04 00:00:00-05:00</th>\n",
       "      <td>1189.37</td>\n",
       "      <td>1208.0000</td>\n",
       "      <td>1123.0500</td>\n",
       "      <td>1149.6300</td>\n",
       "      <td>31688653</td>\n",
       "    </tr>\n",
       "    <tr>\n",
       "      <th>2022-01-05 00:00:00-05:00</th>\n",
       "      <td>1146.51</td>\n",
       "      <td>1170.3400</td>\n",
       "      <td>1081.0101</td>\n",
       "      <td>1087.6201</td>\n",
       "      <td>24879847</td>\n",
       "    </tr>\n",
       "    <tr>\n",
       "      <th>2022-01-06 00:00:00-05:00</th>\n",
       "      <td>1077.00</td>\n",
       "      <td>1088.0000</td>\n",
       "      <td>1020.5000</td>\n",
       "      <td>1064.7000</td>\n",
       "      <td>28202393</td>\n",
       "    </tr>\n",
       "    <tr>\n",
       "      <th>2022-01-07 00:00:00-05:00</th>\n",
       "      <td>1077.80</td>\n",
       "      <td>1080.9299</td>\n",
       "      <td>1010.0000</td>\n",
       "      <td>1026.9000</td>\n",
       "      <td>26528721</td>\n",
       "    </tr>\n",
       "  </tbody>\n",
       "</table>\n",
       "<p>70 rows × 5 columns</p>\n",
       "</div>"
      ],
      "text/plain": [
       "                              TSLA                                           \n",
       "                              open       high        low      close    volume\n",
       "time                                                                         \n",
       "2021-09-30 00:00:00-04:00   780.50   789.1305   775.0000   775.1200  16607487\n",
       "2021-10-01 00:00:00-04:00   778.23   780.7800   763.5900   775.2200  15534257\n",
       "2021-10-04 00:00:00-04:00   796.52   806.9699   776.1200   781.5900  28234226\n",
       "2021-10-05 00:00:00-04:00   784.30   797.3100   774.2000   780.6000  17494284\n",
       "2021-10-06 00:00:00-04:00   776.20   786.6600   773.2200   782.5300  13556622\n",
       "...                            ...        ...        ...        ...       ...\n",
       "2022-01-03 00:00:00-05:00  1147.75  1201.0700  1136.0400  1199.6500  30720927\n",
       "2022-01-04 00:00:00-05:00  1189.37  1208.0000  1123.0500  1149.6300  31688653\n",
       "2022-01-05 00:00:00-05:00  1146.51  1170.3400  1081.0101  1087.6201  24879847\n",
       "2022-01-06 00:00:00-05:00  1077.00  1088.0000  1020.5000  1064.7000  28202393\n",
       "2022-01-07 00:00:00-05:00  1077.80  1080.9299  1010.0000  1026.9000  26528721\n",
       "\n",
       "[70 rows x 5 columns]"
      ]
     },
     "execution_count": 7,
     "metadata": {},
     "output_type": "execute_result"
    }
   ],
   "source": [
    "# Use imported Alpaca function to pull stock quotes\n",
    "\n",
    "#Establishing time parameters for the function call\n",
    "today = pd.Timestamp.now(tz=\"America/New_York\")\n",
    "one_hundred_days_ago = pd.Timestamp(today - pd.Timedelta(days=100)).isoformat()\n",
    "start_date = one_hundred_days_ago\n",
    "end_date = today\n",
    "timeframe = '1D'\n",
    "\n",
    "TSLA_df = get_historical_dataframe('TSLA', start_date, end_date, timeframe)\n",
    "TSLA_df"
   ]
  },
  {
   "cell_type": "code",
   "execution_count": 42,
   "id": "7e0627dc-aad2-4841-9f03-364b87fdb002",
   "metadata": {},
   "outputs": [
    {
     "name": "stdin",
     "output_type": "stream",
     "text": [
      "Query:  #TSLA\n",
      "Enter the number of tweets you want to Analyze:  100000\n",
      "Enter the number of days you want to Scrape Twitter for:  1\n"
     ]
    },
    {
     "name": "stdout",
     "output_type": "stream",
     "text": [
      "Empty DataFrame\n",
      "Columns: [Datetime, Tweet Id, Text, Username]\n",
      "Index: []\n"
     ]
    }
   ],
   "source": [
    "#Get user input\n",
    "query = input(\"Query: \")\n",
    "\n",
    "#As long as the query is valid (not empty or equal to '#')...\n",
    "if query != '':\n",
    "    noOfTweet = input(\"Enter the number of tweets you want to Analyze: \")\n",
    "    if noOfTweet != '' :\n",
    "        noOfDays = input(\"Enter the number of days you want to Scrape Twitter for: \")\n",
    "        if noOfDays != '':\n",
    "                #Creating list to append tweet data\n",
    "                tweets_list = []\n",
    "                now = dt.date.today()\n",
    "                now = now.strftime('%Y-%m-%d')\n",
    "                yesterday = dt.date.today() - dt.timedelta(days = int(noOfDays))\n",
    "                yesterday = yesterday.strftime('%Y-%m-%d')\n",
    "                for i,tweet in enumerate(sntwitter.TwitterSearchScraper(query + ' lang:en since:' +  yesterday + ' until:' + now + ' -filter:links -filter:replies').get_items()):\n",
    "                    if i > int(noOfTweet):\n",
    "                        break\n",
    "                    if tweet.retweetCount > 15:\n",
    "                    \n",
    "                        tweets_list.append([tweet.date, tweet.id, tweet.content, tweet.username])\n",
    "\n",
    "                #Creating a dataframe from the tweets list above \n",
    "                df = pd.DataFrame(tweets_list, columns=['Datetime', 'Tweet Id', 'Text', 'Username'])\n",
    "\n",
    "                print(df)\n"
   ]
  },
  {
   "cell_type": "code",
   "execution_count": 43,
   "id": "d922c818-c69e-4215-8bad-2fa90f4e999e",
   "metadata": {},
   "outputs": [
    {
     "data": {
      "text/html": [
       "<div>\n",
       "<style scoped>\n",
       "    .dataframe tbody tr th:only-of-type {\n",
       "        vertical-align: middle;\n",
       "    }\n",
       "\n",
       "    .dataframe tbody tr th {\n",
       "        vertical-align: top;\n",
       "    }\n",
       "\n",
       "    .dataframe thead th {\n",
       "        text-align: right;\n",
       "    }\n",
       "</style>\n",
       "<table border=\"1\" class=\"dataframe\">\n",
       "  <thead>\n",
       "    <tr style=\"text-align: right;\">\n",
       "      <th></th>\n",
       "      <th>Datetime</th>\n",
       "      <th>Tweet Id</th>\n",
       "      <th>Text</th>\n",
       "      <th>Username</th>\n",
       "    </tr>\n",
       "  </thead>\n",
       "  <tbody>\n",
       "  </tbody>\n",
       "</table>\n",
       "</div>"
      ],
      "text/plain": [
       "Empty DataFrame\n",
       "Columns: [Datetime, Tweet Id, Text, Username]\n",
       "Index: []"
      ]
     },
     "execution_count": 43,
     "metadata": {},
     "output_type": "execute_result"
    }
   ],
   "source": [
    "# Create a function to clean the tweets\n",
    "def cleanTxt(text):\n",
    "    text = re.sub('@[A-Za-z0–9]+', '', text) #Removing @mentions\n",
    "    text = re.sub('#', '', text) # Removing '#' hash tag\n",
    "    text = re.sub('RT[\\s]+', '', text) # Removing RT\n",
    "    text = re.sub('https?:\\/\\/\\S+', '', text) # Removing hyperlink\n",
    "    return text\n",
    "\n",
    "#applying this function to Text column of our dataframe\n",
    "df[\"Text\"] = df[\"Text\"].apply(cleanTxt)\n",
    "df\n"
   ]
  },
  {
   "cell_type": "code",
   "execution_count": 39,
   "id": "f04219f9-8e30-4527-a13c-b77255488807",
   "metadata": {},
   "outputs": [
    {
     "name": "stdout",
     "output_type": "stream",
     "text": [
      "3.3669000000000002\n"
     ]
    }
   ],
   "source": [
    "#Sentiment Analysis\n",
    "def percentage(part,whole):\n",
    "    return 100 * float(part)/float(whole)\n",
    "\n",
    "#Assigning Initial Values\n",
    "positive = 0\n",
    "negative = 0\n",
    "neutral = 0\n",
    "#Creating empty lists\n",
    "tweet_list1 = []\n",
    "neutral_list = []\n",
    "negative_list = []\n",
    "positive_list = []\n",
    "comp_list = []\n",
    "\n",
    "#Iterating over the tweets in the dataframe\n",
    "for tweet in df['Text']:\n",
    "    tweet_list1.append(tweet)\n",
    "    analyzer = SentimentIntensityAnalyzer().polarity_scores(tweet)\n",
    "    neg = analyzer['neg']\n",
    "    neu = analyzer['neu']\n",
    "    pos = analyzer['pos']\n",
    "    comp = analyzer['compound']\n",
    "    comp_list.append(comp)\n",
    "    \n",
    "\n",
    "    if neg > pos:\n",
    "        negative_list.append(tweet) #appending the tweet that satisfies this condition\n",
    "        negative += 1 #increasing the count by 1\n",
    "    elif pos > neg:\n",
    "        positive_list.append(tweet) #appending the tweet that satisfies this condition\n",
    "        positive += 1 #increasing the count by 1\n",
    "    elif pos == neg:\n",
    "        neutral_list.append(tweet) #appending the tweet that satisfies this condition\n",
    "        neutral += 1 #increasing the count by 1 \n",
    "    \n",
    "\n",
    "positive = percentage(positive, len(df)) #percentage is the function defined above\n",
    "negative = percentage(negative, len(df))\n",
    "neutral = percentage(neutral, len(df))\n",
    "comp_df = pd.Series(comp_list)\n",
    "comp_sum = comp_df.sum()\n",
    "print(comp_sum)\n",
    "\n",
    "\n",
    "\n",
    "\n"
   ]
  },
  {
   "cell_type": "code",
   "execution_count": 40,
   "id": "7dcefbbe-c09d-4608-be71-510d96bfa19e",
   "metadata": {},
   "outputs": [
    {
     "name": "stdout",
     "output_type": "stream",
     "text": [
      "Since 1 days, there have been 35 tweets on $TSLA\n",
      "*Positive Sentiment: 16.00\n",
      "*Neutral Sentiment: 8.00\n",
      "*Negative Sentiment: 11.00\n",
      "*"
     ]
    }
   ],
   "source": [
    "#Converting lists to pandas dataframe\n",
    "tweet_list1 = pd.DataFrame(tweet_list1)\n",
    "neutral_list = pd.DataFrame(neutral_list)\n",
    "negative_list = pd.DataFrame(negative_list)\n",
    "positive_list = pd.DataFrame(positive_list)\n",
    "#using len(length) function for counting\n",
    "print(\"Since \" + noOfDays + \" days, there have been\", len(tweet_list1) ,  \"tweets on \" + query, end='\\n*')\n",
    "print(\"Positive Sentiment:\", '%.2f' % len(positive_list), end='\\n*')\n",
    "print(\"Neutral Sentiment:\", '%.2f' % len(neutral_list), end='\\n*')\n",
    "print(\"Negative Sentiment:\", '%.2f' % len(negative_list), end='\\n*')\n"
   ]
  },
  {
   "cell_type": "code",
   "execution_count": 41,
   "id": "6c9ac1db-8096-4bf0-8e4d-46fbcb753d19",
   "metadata": {},
   "outputs": [
    {
     "data": {
      "image/png": "[encoded data removed]",
      "text/plain": [
       "<Figure size 640x480 with 1 Axes>"
      ]
     },
     "metadata": {},
     "output_type": "display_data"
    }
   ],
   "source": [
    "#Creating PieCart**\n",
    "\n",
    "labels = ['Positive ['+str(round(positive))+'%]' , 'Neutral ['+str(round(neutral))+'%]','Negative ['+str(round(negative))+'%]']\n",
    "sizes = [positive, neutral, negative]\n",
    "colors = ['yellowgreen', 'blue','red']\n",
    "patches, texts = plt.pie(sizes,colors=colors, startangle=90)\n",
    "plt.style.use('default')\n",
    "plt.legend(labels)\n",
    "plt.title(\"Sentiment Analysis Result for keyword= \"+query+\"\" )\n",
    "plt.axis('equal')\n",
    "plt.show()"
   ]
  },
  {
   "cell_type": "code",
   "execution_count": null,
   "id": "af849451-5a5c-4d0e-8d16-69fdf348b3f9",
   "metadata": {},
   "outputs": [],
   "source": []
  }
 ],
 "metadata": {
  "kernelspec": {
   "display_name": "Python 3 (ipykernel)",
   "language": "python",
   "name": "python3"
  },
  "language_info": {
   "codemirror_mode": {
    "name": "ipython",
    "version": 3
   },
   "file_extension": ".py",
   "mimetype": "text/x-python",
   "name": "python",
   "nbconvert_exporter": "python",
   "pygments_lexer": "ipython3",
   "version": "3.8.12"
  }
 },
 "nbformat": 4,
 "nbformat_minor": 5
}
