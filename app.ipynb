{
 "cells": [
  {
   "cell_type": "code",
   "execution_count": 1,
   "id": "3e72cb60-51f5-4302-bc03-8aa2ec9346e0",
   "metadata": {},
   "outputs": [],
   "source": [
    "# File to use to test the main function, utility functions, and structure. Later will move changes to functions to separate files in utils folder."
   ]
  },
  {
   "cell_type": "code",
   "execution_count": 6,
   "id": "1a93b15f-7397-4b7c-b746-fd653228bf60",
   "metadata": {},
   "outputs": [],
   "source": [
    "#imports\n",
    "import pandas as pd\n",
    "import numpy as np\n",
    "\n",
    "import tensorflow as tf\n",
    "from tensorflow.keras.layers import Dense\n",
    "from tensorflow.keras.models import Sequential\n",
    "from sklearn.model_selection import train_test_split\n",
    "from sklearn.preprocessing import StandardScaler"
   ]
  },
  {
   "cell_type": "code",
   "execution_count": null,
   "id": "2be6b190-596e-44de-9de6-1d168c652d07",
   "metadata": {},
   "outputs": [],
   "source": []
  }
 ],
 "metadata": {
  "kernelspec": {
   "display_name": "dev2",
   "language": "python",
   "name": "dev2"
  },
  "language_info": {
   "codemirror_mode": {
    "name": "ipython",
    "version": 3
   },
   "file_extension": ".py",
   "mimetype": "text/x-python",
   "name": "python",
   "nbconvert_exporter": "python",
   "pygments_lexer": "ipython3",
   "version": "3.7.10"
  }
 },
 "nbformat": 4,
 "nbformat_minor": 5
}
